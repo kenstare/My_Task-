{
 "cells": [
  {
   "cell_type": "markdown",
   "id": "55535044",
   "metadata": {},
   "source": [
    "Give the following matrices:\n",
    "A = [2 -1 3]  B = [1  2]\n",
    "    [0  4 1],     [-2 0]\n",
    "                  [5 -3]\n",
    "- identify the number of rows and columns in each matrix\n",
    "- Determine whether the matrices can be multiplied. if so, specify whether it's (AB),(BA). or both.\n",
    "- if the multiplication is defined, compute the resulting matrix"
   ]
  },
  {
   "cell_type": "code",
   "execution_count": 11,
   "id": "5cfef58d",
   "metadata": {},
   "outputs": [],
   "source": [
    "import numpy as np "
   ]
  },
  {
   "cell_type": "code",
   "execution_count": null,
   "id": "3c998091",
   "metadata": {},
   "outputs": [],
   "source": [
    "# matrix A2x3 (2 rows, 3 columns)\n",
    "# Matrix B3x2 3 rows, 2 columns\n"
   ]
  },
  {
   "cell_type": "code",
   "execution_count": 12,
   "id": "c93aeecf",
   "metadata": {},
   "outputs": [],
   "source": [
    "A = np.array([[2, -1, 3], [0, 4, 1]])     \n",
    "B = np.array([[1, 2], [-2, 0],[5, -3]])"
   ]
  },
  {
   "cell_type": "code",
   "execution_count": 16,
   "id": "3e8a8a06",
   "metadata": {},
   "outputs": [
    {
     "name": "stdout",
     "output_type": "stream",
     "text": [
      "The dimension of matrix A is (2, 3)\n",
      "The dimension of matrix A is (3, 2)\n"
     ]
    }
   ],
   "source": [
    "print(f\"The dimension of matrix A is {A.shape}\")\n",
    "print(f\"The dimension of matrix A is {B.shape}\")"
   ]
  },
  {
   "cell_type": "markdown",
   "id": "78f68861",
   "metadata": {},
   "source": [
    "#### Matrix A can multiply Matrix B because the number of columns of A is equal to the number of rows of B "
   ]
  },
  {
   "cell_type": "code",
   "execution_count": null,
   "id": "39338c33",
   "metadata": {},
   "outputs": [
    {
     "name": "stdout",
     "output_type": "stream",
     "text": [
      "Matrix A multiply by Matrix B \n",
      " [[19 -5]\n",
      " [-3 -3]]\n"
     ]
    }
   ],
   "source": [
    "AB = np.dot(A,B)\n",
    "print(f\"Matrix A multiply by Matrix B \\n {AB}\")"
   ]
  },
  {
   "cell_type": "markdown",
   "id": "df5272f4",
   "metadata": {},
   "source": [
    "#### Matrix B can multiply Matrix A because the number of columns of B is equal to the number of rows of A "
   ]
  },
  {
   "cell_type": "code",
   "execution_count": 25,
   "id": "b571b3a1",
   "metadata": {},
   "outputs": [
    {
     "name": "stdout",
     "output_type": "stream",
     "text": [
      "Matrix B multiply by Matrix A \n",
      " [[  2   7   5]\n",
      " [ -4   2  -6]\n",
      " [ 10 -17  12]]\n"
     ]
    }
   ],
   "source": [
    "BA = np.dot(B, A)\n",
    "print(f\"Matrix B multiply by Matrix A \\n {BA}\")"
   ]
  },
  {
   "cell_type": "markdown",
   "id": "98c6fe5e",
   "metadata": {},
   "source": [
    "### Breakdown\n",
    "\n",
    "**AB**\n",
    "\n",
    "**First row × first column:**\n",
    "(2)(1) + (-1)(-2) + (3)(5) = 2 + 2 + 15 = 19\n",
    "\n",
    "**First row × second column:**\n",
    "(2)(2) + (-1)(0) + (3)(-3) = 4 + 0 - 9 = -5\n",
    "\n",
    "**Second row × first column:**\n",
    "(0)(1) + (4)(-2) + (1)(5) = 0 - 8 + 5 = -3\n",
    "\n",
    "**Second row × second column:**\n",
    "(0)(2) + (4)(0) + (1)(-3) = 0 + 0 - 3 = -3\n",
    "\n",
    "**Output** \n",
    " [[19 -5]\n",
    " [-3 -3]]\n",
    "\n",
    "**BA**\n",
    "\n",
    "**First row × each column:**\n",
    "(1)(2) + (2)(0) = 2\n",
    "(1)(-1) + (2)(4) = -1 + 8 = 7\n",
    "(1)(3) + (2)(1) = 3 + 2 = 5\n",
    "\n",
    "**Second row × each column:**\n",
    "(-2)(2) + (0)(0) = -4\n",
    "(-2)(-1) + (0)(4) = 2\n",
    "(-2)(3) + (0)(1) = -6\n",
    "\n",
    "**Third row × each column:**\n",
    "(5)(2) + (-3)(0) = 10\n",
    "(5)(-1) + (-3)(4) = -5 - 12 = -17\n",
    "(5)(3) + (-3)(1) = 15 - 3 = 12\n",
    "\n",
    "**Output**\n",
    " [[  2   7   5]\n",
    " [ -4   2  -6]\n",
    " [ 10 -17  12]]\n",
    "\n"
   ]
  }
 ],
 "metadata": {
  "kernelspec": {
   "display_name": "Dataanddata_analysis (3.13.5)",
   "language": "python",
   "name": "python3"
  },
  "language_info": {
   "codemirror_mode": {
    "name": "ipython",
    "version": 3
   },
   "file_extension": ".py",
   "mimetype": "text/x-python",
   "name": "python",
   "nbconvert_exporter": "python",
   "pygments_lexer": "ipython3",
   "version": "3.13.5"
  }
 },
 "nbformat": 4,
 "nbformat_minor": 5
}

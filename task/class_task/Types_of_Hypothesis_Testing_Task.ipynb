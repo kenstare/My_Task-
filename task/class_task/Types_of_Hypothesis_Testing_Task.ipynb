{
 "cells": [
  {
   "cell_type": "markdown",
   "id": "2e5ce98e",
   "metadata": {},
   "source": [
    "# Types of Hypothesis Testing – Class Task "
   ]
  },
  {
   "cell_type": "markdown",
   "id": "ac491294",
   "metadata": {},
   "source": [
    "## 1. Chi-Square Test\n",
    "- **Purpose**: Used for **categorical data** (e.g., Yes/No, Male/Female).  \n",
    "- **Idea**: Checks if there is a significant relationship between two categories."
   ]
  },
  {
   "cell_type": "code",
   "execution_count": null,
   "id": "0c3c7d03",
   "metadata": {},
   "outputs": [],
   "source": [
    "\n",
    "import scipy.stats as stats\n",
    "\n",
    "# Example: Gender vs Preference\n",
    "data = [[25, 15],   # Male: Yes, No\n",
    "        [20, 40]]   # Female: Yes, No\n",
    "\n",
    "chi2, p, dof, expected = stats.chi2_contingency(data)\n",
    "print(\"Chi-square:\", chi2)\n",
    "print(\"p-value:\", p)\n"
   ]
  },
  {
   "cell_type": "markdown",
   "id": "e784b059",
   "metadata": {},
   "source": [
    "## 2. ANOVA (Analysis of Variance)\n",
    "- **Purpose**: Compare **more than 2 means**.  \n",
    "- **Example**: Do students in three schools have the same average scores?"
   ]
  },
  {
   "cell_type": "code",
   "execution_count": null,
   "id": "005f0b5e",
   "metadata": {},
   "outputs": [],
   "source": [
    "\n",
    "import scipy.stats as stats\n",
    "\n",
    "group_A = [45, 50, 55, 60]\n",
    "group_B = [40, 42, 47, 49]\n",
    "group_C = [60, 62, 65, 68]\n",
    "\n",
    "f_stat, p_val = stats.f_oneway(group_A, group_B, group_C)\n",
    "print(\"F-statistic:\", f_stat)\n",
    "print(\"p-value:\", p_val)\n"
   ]
  },
  {
   "cell_type": "markdown",
   "id": "3fdc79d9",
   "metadata": {},
   "source": [
    "## 3. Two-Tailed Test\n",
    "- **Purpose**: Tests if a value is **different** (not just bigger or smaller) than the hypothesized value.  \n",
    "- **Example**: Is the average height different from 170 cm?"
   ]
  },
  {
   "cell_type": "code",
   "execution_count": null,
   "id": "62849c03",
   "metadata": {},
   "outputs": [],
   "source": [
    "\n",
    "from scipy.stats import ttest_1samp\n",
    "\n",
    "heights = [172, 168, 171, 169, 174, 173, 175]\n",
    "t_stat, p_val = ttest_1samp(heights, 170)\n",
    "\n",
    "print(\"t-stat:\", t_stat)\n",
    "print(\"p-value:\", p_val)\n"
   ]
  },
  {
   "cell_type": "markdown",
   "id": "c43bc0c6",
   "metadata": {},
   "source": [
    "## 4. Proportion Test\n",
    "- **Purpose**: Compare proportions between groups.  \n",
    "- **Example**: Are pass rates the same for two groups of students?"
   ]
  },
  {
   "cell_type": "code",
   "execution_count": null,
   "id": "1cda75f2",
   "metadata": {},
   "outputs": [],
   "source": [
    "\n",
    "from statsmodels.stats.proportion import proportions_ztest\n",
    "\n",
    "success = [60, 45]    # Number passed in each group\n",
    "nobs = [100, 100]     # Total students in each group\n",
    "\n",
    "z_stat, p_val = proportions_ztest(success, nobs)\n",
    "print(\"Z-stat:\", z_stat)\n",
    "print(\"p-value:\", p_val)\n"
   ]
  },
  {
   "cell_type": "markdown",
   "id": "092d04c1",
   "metadata": {},
   "source": [
    "✅ **Tip:**  \n",
    "- If **p-value < 0.05** → Reject Null Hypothesis (there is a significant difference).  \n",
    "- If **p-value ≥ 0.05** → Fail to Reject Null Hypothesis (no significant difference)."
   ]
  }
 ],
 "metadata": {
  "language_info": {
   "name": "python"
  }
 },
 "nbformat": 4,
 "nbformat_minor": 5
}

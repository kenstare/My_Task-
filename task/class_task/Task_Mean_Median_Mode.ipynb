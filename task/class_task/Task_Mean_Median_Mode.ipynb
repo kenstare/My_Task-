{
 "cells": [
  {
   "cell_type": "markdown",
   "id": "5fb2f88e",
   "metadata": {},
   "source": [
    "1: Class Test Scores\n",
    "The following are the Mathematics test scores (out of 20) for a class of 15 students:\n",
    " 5, 8, 10, 12, 12, 12, 13, 14, 14, 15, 16, 18, 18, 20, 20\n",
    "Find the mean, median, and mode of the scores.\n",
    "\n",
    "\n",
    "If the lowest score (5) was wrongly recorded and should have been 10, how would the mean change? Would the median or mode change? Explain."
   ]
  },
  {
   "cell_type": "markdown",
   "id": "a69a5833",
   "metadata": {},
   "source": [
    "Scores:\n",
    "5, 8, 10, 12, 12, 12, 13, 14, 14, 15, 16, 18, 18, 20, 20\n",
    "\n",
    "Mean\n",
    "\n",
    "Formula:\n",
    "Mean = Sum of scores / Number of students\n",
    "Mean = 5 + 8 + 10 + 12 + 12 + 12 + 13 + 14 + 14 + 15 + 16 + 18 + 18 + 20 + 20 \n",
    "Number of students = 15\n",
    "Sum of scores = 207\n",
    "Mean = 207/15 = 13.8\n"
   ]
  },
  {
   "cell_type": "markdown",
   "id": "771e727f",
   "metadata": {},
   "source": [
    "Median\n",
    "To find the median, arrange the scores in ascending order\n",
    "5, 8, 10, 12, 12, 12, 13, 14, 14, 15, 16, 18, 18, 20, 20\n",
    "\n",
    "Since there are 15 scores (an odd number), the median is the middle score, which is the 8th score.\n",
    "\n",
    "Median = 14\n",
    "\n",
    "\n",
    "Mode\n",
    "The mode is the score that appears most frequently, 12 appears 3 times.\n",
    "\n",
    "Mode = 12\n",
    "\n",
    "If the lowest score (5) was wrongly recorded and should have been 10, the new scores would be:\n",
    "10, 8, 10, 12, 12, 12, 13, 14, 14, 15, 16, 18, 18, 20, 20\n",
    "\n",
    "New Mean\n",
    "New Sum of scores = 212\n",
    "New Mean = 212/15 = 14.13\n",
    "\n",
    "New Median\n",
    "The new scores in ascending order: 8, 10, 10, 12, 12, 12, 13, 14, 14, 15, 16, 18, 18, 20, 20    \n",
    "The median remains the same, which is the 8th score = 14\n",
    "\n",
    "\n"
   ]
  },
  {
   "cell_type": "markdown",
   "id": "1059f809",
   "metadata": {},
   "source": [
    "2: Daily Commute Times A group of 9 students reported the time (in minutes) it takes them to get to school each day: 15, 20, 20, 25, 25, 30, 60, 65, 120 Find the mean, median, and mode of the data."
   ]
  },
  {
   "cell_type": "markdown",
   "id": "fbc65285",
   "metadata": {},
   "source": [
    "\n",
    "\n",
    "Mean\n",
    "To find the mean, add all the commute times together and divide by the number of students.\n",
    "15, 20, 20, 25, 25, 30, 60, 65, 120\n",
    "\n",
    "Total = 15 + 20 + 20 + 25 + 25 + 30 + 60 + 65 + 120 = 380\n",
    "Number of Students = 9\n",
    "Mean = Total / Number of Students = 380 / 9 = 42.22\n",
    "\n",
    "Median\n",
    "To find the median, arrange the commute times in ascending order:\n",
    "15, 20, 20, 25, 25, 30, 60, 65, 120\n",
    "\n",
    "Since there are 9 commute times, the median is the middle value,\n",
    "Median = 25\n",
    "\n",
    "Mode\n",
    "The mode is the value that appears most frequently. so 20 and 25 appear twice,\n",
    "Mode = 20, 25\n",
    "\n"
   ]
  },
  {
   "cell_type": "markdown",
   "id": "28d20b65",
   "metadata": {},
   "source": [
    "3: Shoe Sizes The shoe sizes of students in a class are: 38, 39, 38, 40, 41, 42, 39, 39, 40, 38, 37, 39, 40, 41, 42 Find the mode of the data. If a shoe company wants to donate free shoes, which size should they produce most of? Why?\n",
    "What if they only want to produce one size that would fit the \"average\" student? Should they use mean, median, or mode? Defend your answer"
   ]
  },
  {
   "cell_type": "markdown",
   "id": "c9e426ad",
   "metadata": {},
   "source": [
    "\n",
    "Mode\n",
    "The size of shoe that appears most frequently\n",
    "38, 39, 38, 40, 41, 42, 39, 39, 40, 38, 37, 39, 40, 41, 42\n",
    "\n",
    "Mode = 39 \n",
    "\n",
    "If a shoe company wants to donate free shoes, they should produce size 39, as it is the most common size among the students\n",
    "\n",
    "If they want to produce one size that fits the \"average\" student, they should use the median size\n",
    "\n",
    "Arrange the sizes in ascending order:\n",
    "37, 38, 38, 38, 39, 39, 39, 39, 40, 40, 40, 41, 41, 42, 42\n",
    "\n",
    "The median is the middle value, which is 39\n",
    "Since the mean, median, and mode are all the same (39), so any of these measures could be used to represent the \"average\" student\n"
   ]
  }
 ],
 "metadata": {
  "language_info": {
   "name": "python"
  }
 },
 "nbformat": 4,
 "nbformat_minor": 5
}

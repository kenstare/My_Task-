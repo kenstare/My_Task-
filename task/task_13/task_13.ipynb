{
 "cells": [
  {
   "cell_type": "markdown",
   "id": "c2f3c92d",
   "metadata": {},
   "source": [
    "#### Question 1\n"
   ]
  },
  {
   "cell_type": "code",
   "execution_count": 60,
   "id": "328f9020",
   "metadata": {},
   "outputs": [
    {
     "name": "stdout",
     "output_type": "stream",
     "text": [
      "[[ 7 33 34 25 28 37]\n",
      " [ 5  8 32  2 33 47]\n",
      " [45 13 11 28  4 45]\n",
      " [31 42 12 32 22 24]\n",
      " [36 14 17  7 38 28]\n",
      " [ 8 27 19 13 24 45]]\n"
     ]
    }
   ],
   "source": [
    "# Craeting 6x6 Numpy array with integers between 1 and 50\n",
    "import numpy as np\n",
    "arr = np.random.randint(1, 50, size=(6, 6))\n",
    "\n",
    "print(arr)\n"
   ]
  },
  {
   "cell_type": "markdown",
   "id": "e3c8c754",
   "metadata": {},
   "source": [
    "#### Question 2"
   ]
  },
  {
   "cell_type": "code",
   "execution_count": 2,
   "id": "1e457a14",
   "metadata": {},
   "outputs": [
    {
     "name": "stdout",
     "output_type": "stream",
     "text": [
      "first 2 row: [[43 46 37 16 49 10]\n",
      " [23 10 35 10 14  8]]\n",
      "\n",
      "\n",
      "three columns: \n",
      " [[16 49 10]\n",
      " [10 14  8]\n",
      " [ 8 34 11]\n",
      " [46 36 25]\n",
      " [26 43 13]\n",
      " [23 36 28]]\n"
     ]
    }
   ],
   "source": [
    "print(\"first 2 row:\", arr[:2])\n",
    "print(\"\\n\")\n",
    "print(\"three columns: \\n\", arr[:, 3:])\n"
   ]
  },
  {
   "cell_type": "code",
   "execution_count": 3,
   "id": "59a7949e",
   "metadata": {},
   "outputs": [
    {
     "name": "stdout",
     "output_type": "stream",
     "text": [
      "even number: \n",
      " [46 16 10 10 10 14  8  4  6 30  8 34 44 46 36 24 46 26 20 36 28]\n"
     ]
    }
   ],
   "source": [
    "print(\"even number: \\n\", arr[arr % 2 ==0])"
   ]
  },
  {
   "cell_type": "markdown",
   "id": "a2ea2d22",
   "metadata": {},
   "source": [
    "#### Question 3\n"
   ]
  },
  {
   "cell_type": "code",
   "execution_count": 39,
   "id": "84acf6d7",
   "metadata": {},
   "outputs": [
    {
     "name": "stdout",
     "output_type": "stream",
     "text": [
      "\n",
      "Reshaped to (3, 2, 6):\n",
      " [[[13  5 37 42 46 10]\n",
      "  [48 22 30 45  7  9]]\n",
      "\n",
      " [[32 45 19 45 22 19]\n",
      "  [41 45 18 49 12 34]]\n",
      "\n",
      " [[18 32 13 49  3 19]\n",
      "  [40 43  7 11 14 16]]]\n"
     ]
    }
   ],
   "source": [
    "reshaped_arr = arr.reshape(3, 2, 6)\n",
    "print(\"\\nReshaped to (3, 2, 6):\\n\", reshaped_arr)"
   ]
  },
  {
   "cell_type": "code",
   "execution_count": 40,
   "id": "f79c0207",
   "metadata": {},
   "outputs": [
    {
     "name": "stdout",
     "output_type": "stream",
     "text": [
      "\n",
      "flettened back to 1D:\n",
      ": [13  5 37 42 46 10 48 22 30 45  7  9 32 45 19 45 22 19 41 45 18 49 12 34\n",
      " 18 32 13 49  3 19 40 43  7 11 14 16]\n"
     ]
    }
   ],
   "source": [
    "flatten_arr = reshaped_arr.flatten()\n",
    "print(\"\\nflettened back to 1D:\\n:\", flatten_arr)"
   ]
  },
  {
   "cell_type": "markdown",
   "id": "c2ea8baf",
   "metadata": {},
   "source": [
    "#### Question 4"
   ]
  },
  {
   "cell_type": "code",
   "execution_count": 61,
   "id": "63f885f2",
   "metadata": {},
   "outputs": [
    {
     "name": "stdout",
     "output_type": "stream",
     "text": [
      "4x4 identity matrix:\n",
      "[[1. 0. 0. 0.]\n",
      " [0. 1. 0. 0.]\n",
      " [0. 0. 1. 0.]\n",
      " [0. 0. 0. 1.]]\n",
      "\n",
      "\n",
      "[[10  0  0  0]\n",
      " [ 0 20  0  0]\n",
      " [ 0  0 30  0]\n",
      " [ 0  0  0 40]]\n"
     ]
    }
   ],
   "source": [
    "id_matrix = np.eye(4)\n",
    "print(\"4x4 identity matrix:\")\n",
    "print(id_matrix)\n",
    "\n",
    "print(\"\\n\")\n",
    "diagonal_matrix = np.diag(np.arange(10, 50,10))\n",
    "print(diagonal_matrix)"
   ]
  },
  {
   "cell_type": "markdown",
   "id": "ade1209e",
   "metadata": {},
   "source": [
    "#### Question 5"
   ]
  },
  {
   "cell_type": "code",
   "execution_count": 58,
   "id": "c0a122df",
   "metadata": {},
   "outputs": [
    {
     "name": "stdout",
     "output_type": "stream",
     "text": [
      "3x4 matrix:\n",
      "[[5 7 8 8]\n",
      " [8 1 4 1]\n",
      " [6 3 9 1]]\n",
      "\n",
      "4x3 matrix:\n",
      "[[6 5 2]\n",
      " [9 3 4]\n",
      " [1 3 9]\n",
      " [7 4 3]]\n",
      "\n",
      "\n",
      "Matrix Multiplication Result:\n",
      "result\n",
      "[[157 102 134]\n",
      " [ 68  59  59]\n",
      " [ 79  70 108]]\n"
     ]
    }
   ],
   "source": [
    "arr_1 = np.random.randint(1, 10, size=(3,4))\n",
    "print(\"3x4 matrix:\")\n",
    "print(arr_1)\n",
    "\n",
    "arr_2 = np.random.randint(1, 10, size=(4,3))\n",
    "print(\"\\n4x3 matrix:\")\n",
    "print(arr_2)\n",
    "\n",
    "print(\"\\n\")\n",
    "\n",
    "result = np.matmul(arr_1, arr_2)\n",
    "print(\"Matrix Multiplication Result:\")\n",
    "print(\"result\")\n",
    "res = np.dot(arr_1, arr_2)\n",
    "print(res)"
   ]
  },
  {
   "cell_type": "markdown",
   "id": "4c97534e",
   "metadata": {},
   "source": [
    "#### Question 6"
   ]
  },
  {
   "cell_type": "code",
   "execution_count": 59,
   "id": "4ee1d1c6",
   "metadata": {},
   "outputs": [
    {
     "name": "stdout",
     "output_type": "stream",
     "text": [
      "Original Array:\n",
      "[[1 2 3]\n",
      " [4 5 6]]\n",
      "\n",
      "Transformed Array:\n",
      "[[-1  4 -1]\n",
      " [16 -1 36]]\n"
     ]
    }
   ],
   "source": [
    "import numpy as np\n",
    "def transform_array(arr: np.ndarray) -> np.ndarray:\n",
    "    \"\"\"\n",
    "    Takes a 2D NumPy array and returns a new array where:\n",
    "    - All even numbers are squared.\n",
    "    - All odd numbers are replaced by -1.\n",
    "    \"\"\"\n",
    "    # Copy to avoid modifying original array\n",
    "    result = arr.copy()\n",
    "    # Even numbers → square\n",
    "    result[result % 2 == 0] = result[result % 2 == 0] ** 2\n",
    "    # Odd numbers → -1\n",
    "    result[result % 2 != 0] = -1\n",
    "    return result\n",
    "# Example usage\n",
    "arr = np.array([[1, 2, 3],\n",
    "                [4, 5, 6]])\n",
    "print(\"Original Array:\")\n",
    "print(arr)\n",
    "print(\"\\nTransformed Array:\")\n",
    "print(transform_array(arr))\n"
   ]
  }
 ],
 "metadata": {
  "kernelspec": {
   "display_name": "Dataandata_analysis",
   "language": "python",
   "name": "python3"
  },
  "language_info": {
   "codemirror_mode": {
    "name": "ipython",
    "version": 3
   },
   "file_extension": ".py",
   "mimetype": "text/x-python",
   "name": "python",
   "nbconvert_exporter": "python",
   "pygments_lexer": "ipython3",
   "version": "3.13.7"
  }
 },
 "nbformat": 4,
 "nbformat_minor": 5
}

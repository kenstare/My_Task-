{
 "cells": [
  {
   "cell_type": "code",
   "execution_count": 4,
   "id": "f5880d01",
   "metadata": {},
   "outputs": [
    {
     "name": "stdout",
     "output_type": "stream",
     "text": [
      "=== Running Validation Tests ===\n",
      "Validation failed for Admin:\n",
      "1 validation error for XUser\n",
      "username\n",
      "  Value error, Username is reserved and cannot be used. [type=value_error, input_value='Admin', input_type=str]\n",
      "    For further information visit https://errors.pydantic.dev/2.12/v/value_error \n",
      "\n",
      "Valid user: kenstar (free)\n",
      "Valid user: kenny (premium)\n"
     ]
    },
    {
     "name": "stderr",
     "output_type": "stream",
     "text": [
      "C:\\Users\\akind\\AppData\\Local\\Temp\\ipykernel_42216\\3237092234.py:9: PydanticDeprecatedSince20: Pydantic V1 style `@validator` validators are deprecated. You should migrate to Pydantic V2 style `@field_validator` validators, see the migration guide for more details. Deprecated in Pydantic V2.0 to be removed in V3.0. See Pydantic V2 Migration Guide at https://errors.pydantic.dev/2.12/migration/\n",
      "  @validator(\"username\")\n",
      "C:\\Users\\akind\\AppData\\Local\\Temp\\ipykernel_42216\\3237092234.py:15: PydanticDeprecatedSince20: Pydantic V1 style `@validator` validators are deprecated. You should migrate to Pydantic V2 style `@field_validator` validators, see the migration guide for more details. Deprecated in Pydantic V2.0 to be removed in V3.0. See Pydantic V2 Migration Guide at https://errors.pydantic.dev/2.12/migration/\n",
      "  @validator(\"account_type\")\n",
      "C:\\Users\\akind\\AppData\\Local\\Temp\\ipykernel_42216\\3237092234.py:21: PydanticDeprecatedSince20: Pydantic V1 style `@validator` validators are deprecated. You should migrate to Pydantic V2 style `@field_validator` validators, see the migration guide for more details. Deprecated in Pydantic V2.0 to be removed in V3.0. See Pydantic V2 Migration Guide at https://errors.pydantic.dev/2.12/migration/\n",
      "  @validator(\"post\")\n"
     ]
    }
   ],
   "source": [
    "from pydantic import BaseModel, Field, ValidationError, validator\n",
    "from typing import Optional\n",
    "\n",
    "class XUser(BaseModel):\n",
    "    username: str = Field(..., min_length=3, max_length=15)\n",
    "    post: str\n",
    "    account_type: str = Field(..., description=\"free or premium\")\n",
    "\n",
    "    @validator(\"username\")\n",
    "    def check_reserved_names(cls, v):\n",
    "        if v.lower() in [\"admin\", \"twitter\"]:\n",
    "            raise ValueError(\"Username is reserved and cannot be used.\")\n",
    "        return v\n",
    "\n",
    "    @validator(\"account_type\")\n",
    "    def check_account_type(cls, v):\n",
    "        if v.lower() not in [\"free\", \"premium\"]:\n",
    "            raise ValueError(\"Account type must be 'free' or 'premium'.\")\n",
    "        return v.lower()\n",
    "\n",
    "    @validator(\"post\")\n",
    "    def check_post_length(cls, v, values):\n",
    "        account = values.get(\"account_type\")\n",
    "        if not account:\n",
    "            return v  \n",
    "\n",
    "        max_len = 280 if account == \"free\" else 25000\n",
    "        if len(v) > max_len:\n",
    "            raise ValueError(f\"{account.capitalize()} users can only post up to {max_len} characters.\")\n",
    "        return v\n",
    "\n",
    "\n",
    "# Test cases to validate the XUser model\n",
    "def test_users():\n",
    "    print(\"=== Running Validation Tests ===\")\n",
    "\n",
    "    users_to_test = [\n",
    "        {\"username\": \"Admin\", \"account_type\": \"free\", \"post\": \"Hello X!\"},\n",
    "        {\"username\": \"kenstar\", \"account_type\": \"free\", \"post\": \"Short post\"},\n",
    "        {\"username\": \"kenny\", \"account_type\": \"premium\", \"post\": \"A\" * 30000},  # too long\n",
    "    ]\n",
    "\n",
    "    for data in users_to_test:\n",
    "        try:\n",
    "            user = XUser(**data)\n",
    "            print(f\"Valid user: {user.username} ({user.account_type})\")\n",
    "        except ValidationError as e:\n",
    "            print(f\"Validation failed for {data['username']}:\")\n",
    "            print(e, \"\\n\")\n",
    "\n",
    "test_users()\n"
   ]
  }
 ],
 "metadata": {
  "kernelspec": {
   "display_name": "Dataanddata_analysis (3.13.5)",
   "language": "python",
   "name": "python3"
  },
  "language_info": {
   "codemirror_mode": {
    "name": "ipython",
    "version": 3
   },
   "file_extension": ".py",
   "mimetype": "text/x-python",
   "name": "python",
   "nbconvert_exporter": "python",
   "pygments_lexer": "ipython3",
   "version": "3.13.5"
  }
 },
 "nbformat": 4,
 "nbformat_minor": 5
}

{
 "cells": [
  {
   "cell_type": "code",
   "execution_count": null,
   "id": "4fd18a89",
   "metadata": {},
   "outputs": [
    {
     "ename": "",
     "evalue": "",
     "output_type": "error",
     "traceback": [
      "\u001b[1;31mRunning cells with 'Python 3.13.5' requires the ipykernel package.\n",
      "\u001b[1;31m<a href='command:jupyter.createPythonEnvAndSelectController'>Create a Python Environment</a> with the required packages.\n",
      "\u001b[1;31mOr install 'ipykernel' using the command: 'c:/Users/akind/AppData/Local/Programs/Python/Python313/python.exe -m pip install ipykernel -U --user --force-reinstall'"
     ]
    }
   ],
   "source": [
    "import numpy as np "
   ]
  },
  {
   "cell_type": "code",
   "execution_count": null,
   "id": "addcccf6",
   "metadata": {},
   "outputs": [
    {
     "ename": "",
     "evalue": "",
     "output_type": "error",
     "traceback": [
      "\u001b[1;31mRunning cells with 'Python 3.13.5' requires the ipykernel package.\n",
      "\u001b[1;31m<a href='command:jupyter.createPythonEnvAndSelectController'>Create a Python Environment</a> with the required packages.\n",
      "\u001b[1;31mOr install 'ipykernel' using the command: 'c:/Users/akind/AppData/Local/Programs/Python/Python313/python.exe -m pip install ipykernel -U --user --force-reinstall'"
     ]
    }
   ],
   "source": [
    "# Dataset 4 x 3 Matrix\n",
    "A = np.array([[80, 70, 90],\n",
    "              [60, 85, 75],\n",
    "              [95, 88, 92],\n",
    "              [70, 60, 65]])\n",
    "# Each row represents a student and each column represents a subject\n",
    "# Subjects: Math, Science, English\n",
    "print(\"Dataset A (4x3)\")\n",
    "print(A)"
   ]
  },
  {
   "cell_type": "code",
   "execution_count": 7,
   "id": "4a32f1d7",
   "metadata": {},
   "outputs": [
    {
     "name": "stdout",
     "output_type": "stream",
     "text": [
      "\n",
      "Totals per student\n",
      "[240 220 275 195]\n"
     ]
    }
   ],
   "source": [
    "# Total scores per student\n",
    "print(\"\\nTotals per student\")\n",
    "print(A.sum(axis=1))"
   ]
  },
  {
   "cell_type": "code",
   "execution_count": 9,
   "id": "516e3174",
   "metadata": {},
   "outputs": [
    {
     "name": "stdout",
     "output_type": "stream",
     "text": [
      "\n",
      "Averages per subject\n",
      "[76.25 75.75 80.5 ]\n"
     ]
    }
   ],
   "source": [
    "# Step 2: Average score per subject\n",
    "print(\"\\nAverages per subject\")\n",
    "print(A.mean(axis=0))"
   ]
  },
  {
   "cell_type": "code",
   "execution_count": 14,
   "id": "a6e765a7",
   "metadata": {},
   "outputs": [
    {
     "name": "stdout",
     "output_type": "stream",
     "text": [
      "\n",
      "Weighted grades\n",
      "[79.  70.5 92.3 66. ]\n"
     ]
    }
   ],
   "source": [
    "# Weighted final grades\n",
    "weights_A = np.array([0.5, 0.3, 0.2])\n",
    "print(\"\\nWeighted grades\")\n",
    "print(A @ weights_A)"
   ]
  },
  {
   "cell_type": "code",
   "execution_count": 17,
   "id": "75a169f0",
   "metadata": {},
   "outputs": [
    {
     "name": "stdout",
     "output_type": "stream",
     "text": [
      "\n",
      "Student3 - Student4\n",
      "[25 28 27]\n"
     ]
    }
   ],
   "source": [
    "# Compare Student3 and Student4\n",
    "print(\"\\nStudent3 - Student4\")\n",
    "print(A[2] - A[3])"
   ]
  },
  {
   "cell_type": "code",
   "execution_count": 18,
   "id": "413f4ea7",
   "metadata": {},
   "outputs": [],
   "source": [
    "import numpy as np"
   ]
  },
  {
   "cell_type": "code",
   "execution_count": 19,
   "id": "2b23c308",
   "metadata": {},
   "outputs": [
    {
     "name": "stdout",
     "output_type": "stream",
     "text": [
      "\n",
      "Dataset B (5x4)\n",
      "[[78 82 69 91]\n",
      " [65 74 88 70]\n",
      " [90 85 94 78]\n",
      " [72 68 59 80]\n",
      " [84 90 76 85]]\n"
     ]
    }
   ],
   "source": [
    "# Dataset 5 x 4\n",
    "B = np.array([[78, 82, 69, 91],\n",
    "              [65, 74, 88, 70],\n",
    "              [90, 85, 94, 78],\n",
    "              [72, 68, 59, 80],\n",
    "              [84, 90, 76, 85]])\n",
    "\n",
    "print(\"\\nDataset B (5x4)\")\n",
    "print(B)"
   ]
  },
  {
   "cell_type": "code",
   "execution_count": 20,
   "id": "dbb93899",
   "metadata": {},
   "outputs": [
    {
     "name": "stdout",
     "output_type": "stream",
     "text": [
      "\n",
      "Totals per student\n",
      "[320 297 347 279 335]\n"
     ]
    }
   ],
   "source": [
    "# Totals per student\n",
    "print(\"\\nTotals per student\")\n",
    "print(B.sum(axis=1))"
   ]
  },
  {
   "cell_type": "code",
   "execution_count": 21,
   "id": "a97358a3",
   "metadata": {},
   "outputs": [
    {
     "name": "stdout",
     "output_type": "stream",
     "text": [
      "\n",
      "Averages per subject\n",
      "[77.8 79.8 77.2 80.8]\n"
     ]
    }
   ],
   "source": [
    "# Average per subject\n",
    "print(\"\\nAverages per subject\")\n",
    "print(B.mean(axis=0))\n"
   ]
  },
  {
   "cell_type": "code",
   "execution_count": 22,
   "id": "d4810550",
   "metadata": {},
   "outputs": [
    {
     "name": "stdout",
     "output_type": "stream",
     "text": [
      "\n",
      "Totals with Science x3\n",
      "[458 473 535 397 487]\n"
     ]
    }
   ],
   "source": [
    "# Science is 3x more important (column index 2)\n",
    "print(\"\\nTotals with Science x3\")\n",
    "print((B * [1, 1, 3, 1]).sum(axis=1))"
   ]
  },
  {
   "cell_type": "code",
   "execution_count": 23,
   "id": "b3721ad2",
   "metadata": {},
   "outputs": [
    {
     "name": "stdout",
     "output_type": "stream",
     "text": [
      "\n",
      "Weighted grades\n",
      "[77.4 74.2 89.  68.1 82.9]\n"
     ]
    }
   ],
   "source": [
    "# Weighted final grades (weights = [0.4, 0.2, 0.3, 0.1])\n",
    "weights_B = np.array([0.4, 0.2, 0.3, 0.1])\n",
    "print(\"\\nWeighted grades\")\n",
    "print(B @ weights_B)"
   ]
  },
  {
   "cell_type": "code",
   "execution_count": 24,
   "id": "fb8f5043",
   "metadata": {},
   "outputs": [
    {
     "name": "stdout",
     "output_type": "stream",
     "text": [
      "\n",
      "Student3 - Student4\n",
      "[18 17 35 -2]\n"
     ]
    }
   ],
   "source": [
    "# Compare Student3 and Student4\n",
    "print(\"\\nStudent3 - Student4\")\n",
    "print(B[2] - B[3])\n"
   ]
  }
 ],
 "metadata": {
  "kernelspec": {
   "display_name": "Python 3",
   "language": "python",
   "name": "python3"
  },
  "language_info": {
   "codemirror_mode": {
    "name": "ipython",
    "version": 3
   },
   "file_extension": ".py",
   "mimetype": "text/x-python",
   "name": "python",
   "nbconvert_exporter": "python",
   "pygments_lexer": "ipython3",
   "version": "3.13.5"
  }
 },
 "nbformat": 4,
 "nbformat_minor": 5
}
